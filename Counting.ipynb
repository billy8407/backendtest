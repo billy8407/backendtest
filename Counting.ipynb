{
 "cells": [
  {
   "cell_type": "code",
   "execution_count": 11,
   "metadata": {},
   "outputs": [
    {
     "name": "stdout",
     "output_type": "stream",
     "text": [
      "a.txt 3\n",
      "b.txt 2\n",
      "c.jpg 2\n"
     ]
    }
   ],
   "source": [
    "urls = [\n",
    "\"http://www.google.com/a.txt\",\n",
    "\"http://www.google.com.tw/a.txt\",\n",
    "\"http://www.google.com/download/c.jpg\",\n",
    "\"http://www.google.co.jp/a.txt\",\n",
    "\"http://www.google.com/b.txt\",\n",
    "\"https://facebook.com/movie/b.txt\",\n",
    "\"http://yahoo.com/123/000/c.jpg\",\n",
    "\"http://gliacloud.com/haha.png\",\n",
    "]\n",
    "\n",
    "\n",
    "c=[]\n",
    "for i in urls:\n",
    "    #print(i)\n",
    "    #print(type(i))\n",
    "    x=i.split(\"/\")\n",
    "    #print(x[-1])\n",
    "    c.append(x[-1])\n",
    "    \n",
    "#x=a[0].split(\"/\")\n",
    "#print(x[-1])\n",
    "c=sorted(c)\n",
    "#print(c)\n",
    "z=','.join(c)\n",
    "#print(z)\n",
    "\n",
    "urls={cc:c.count(cc) for cc in c}    ############\n",
    "#print(urls)\n",
    "#print(list(urls.items()))\n",
    "x=list(urls.items())\n",
    "\n",
    "for xx in x:\n",
    "    if xx[1]>1:\n",
    "        print(xx[0],xx[1])"
   ]
  },
  {
   "cell_type": "code",
   "execution_count": null,
   "metadata": {},
   "outputs": [],
   "source": []
  }
 ],
 "metadata": {
  "kernelspec": {
   "display_name": "Python 3",
   "language": "python",
   "name": "python3"
  },
  "language_info": {
   "codemirror_mode": {
    "name": "ipython",
    "version": 3
   },
   "file_extension": ".py",
   "mimetype": "text/x-python",
   "name": "python",
   "nbconvert_exporter": "python",
   "pygments_lexer": "ipython3",
   "version": "3.6.4"
  }
 },
 "nbformat": 4,
 "nbformat_minor": 2
}
